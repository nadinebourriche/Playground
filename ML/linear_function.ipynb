{
 "cells": [
  {
   "cell_type": "code",
   "execution_count": 23,
   "metadata": {},
   "outputs": [],
   "source": [
    "import numpy as np"
   ]
  },
  {
   "cell_type": "code",
   "execution_count": 24,
   "metadata": {},
   "outputs": [],
   "source": [
    "# Generating mock data for training \n",
    "X = np.array([[1], [2], [3], [4]], dtype=np.float32) #input\n",
    "Y = np.array([[3], [5], [7], [9]], dtype=np.float32) #target output"
   ]
  },
  {
   "cell_type": "code",
   "execution_count": 25,
   "metadata": {},
   "outputs": [],
   "source": [
    "# Initialize weights and bias, these are the parameters that the network will learn\n",
    "# We start from random values -> first guesses will be bad\n",
    "w = np.random.randn(1, 1) #weight matrix (1x1 because there is one input feature and 1 output)\n",
    "b = np.random.randn(1) # bias (scalar, there is only 1 output neuron  )"
   ]
  },
  {
   "cell_type": "code",
   "execution_count": 26,
   "metadata": {},
   "outputs": [],
   "source": [
    "# Hyperparameters\n",
    "learning_rate = 0.01 #controls how much we adjust the weights in each step\n",
    "epochs = 10 #number of times we loop through the dataset\n"
   ]
  },
  {
   "cell_type": "code",
   "execution_count": 27,
   "metadata": {},
   "outputs": [
    {
     "name": "stdout",
     "output_type": "stream",
     "text": [
      "Epoch 0, Loss: 50.17432833423043\n"
     ]
    }
   ],
   "source": [
    "# Training loop\n",
    "\n",
    "for epoch in range(epochs):\n",
    "    \n",
    "    #forward propagation \n",
    "    #compute the predicted output Z using the current weights and bias\n",
    "    Z=np.dot(X,w) + b #matrix multiplication of X (input) and w(weights) then add bias\n",
    "    \n",
    "    # Compute the loss, Mean Squared Error\n",
    "    # The MSE measured how far in the prediction Z from the output Y\n",
    "    # MSE = (1/n) * sum((Y_true - Y_pred)^2)\n",
    "    loss=np.mean((Z-Y)**2)\n",
    "\n",
    "    #Backpropagation, calculate the gradient of the loss with respct to the weights and bias\n",
    "    #so that we know how to adjust the wights to reduce the loss\n",
    "    \n",
    "    # Gradient of the loss with respect to Z, dL/dZ\n",
    "    #dL/dZ=2*(Z-Y)/n\n",
    "    dZ=2*(Z-Y)/len(X) #derivative of the loss function with respect to the predicted output\n",
    "\n",
    "    # Gradient of the loss with respect to w, dL/dw\n",
    "    #dL/dw=X^T * dZ\n",
    "    dw=np.dot(X.T,dZ)\n",
    "\n",
    "    # Gradient of the loss with respect to b, dL/dw\n",
    "    #dL/db=sum(dZ)\n",
    "    db= np.sum(dZ)\n",
    "\n",
    "    # Update weights and bias using gradient descent\n",
    "    # Adjust the weights and bias in the direction that reduces the loss.\n",
    "    # w_new = w_old - learning_rate * dL/dw\n",
    "    # b_new = b_old - learning_rate * dL/db\n",
    "    w -= learning_rate * dw  # Update weight\n",
    "    b -= learning_rate * db  # Update bias\n",
    "\n",
    "    # Print the loss every 100 epochs to monitor progress\n",
    "    if epoch % 100 == 0:\n",
    "        print(f\"Epoch {epoch}, Loss: {loss}\")"
   ]
  },
  {
   "cell_type": "code",
   "execution_count": 28,
   "metadata": {},
   "outputs": [
    {
     "name": "stdout",
     "output_type": "stream",
     "text": [
      "Predicted: [[9.15946122]]\n"
     ]
    }
   ],
   "source": [
    "# Test the network\n",
    "# After training, use the learned weights and bias to make a prediction.\n",
    "# For example, if x = 5, the expected output is y = 2*5 + 1 = 11.\n",
    "test_input = np.array([[5]])  # New input (x = 5)\n",
    "predicted_output = np.dot(test_input, w) + b  # Compute prediction using learned w and b\n",
    "print(f\"Predicted: {predicted_output}\")  # Should be close to 11"
   ]
  }
 ],
 "metadata": {
  "kernelspec": {
   "display_name": "Python 3",
   "language": "python",
   "name": "python3"
  },
  "language_info": {
   "codemirror_mode": {
    "name": "ipython",
    "version": 3
   },
   "file_extension": ".py",
   "mimetype": "text/x-python",
   "name": "python",
   "nbconvert_exporter": "python",
   "pygments_lexer": "ipython3",
   "version": "3.10.9"
  }
 },
 "nbformat": 4,
 "nbformat_minor": 2
}
